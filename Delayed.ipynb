{
  "cells": [
    {
      "cell_type": "markdown",
      "metadata": {
        "colab_type": "text",
        "id": "zqJqmZ_GHf63"
      },
      "source": [
        "# Will it be delayed?\n",
        "\n",
        "Everyone who has flown has experienced a delayed or cancelled flight. Both airlines and airports would like to improve their on-time performance and predict when a flight will be delayed or cancelled several days in advance. You are being hired to build a model that can predict if a flight will be delayed. To learn more, you must schedule a meeting with your client (me). To schedule an appointment with your client, send an event request through Google Calendar for a 15 minute meeting. Both you and your project partner must attend the meeting. Come prepared with questions to ask your client. Remember that your client is not a data scientist and you will need to explain things in a way that is easy to understand. Make sure that your communications are efficient, thought out, and not redundant as your client might get frustrated and \"fire\" you (this only applies to getting information from your client, this does not necessary apply to asking for help with the actual project itself - you should continuously ask questions for getting help).\n",
        "\n",
        "For this project you must go through most all steps in the checklist. You must write responses for all items as done in the homeworks, however sometimes the item will simply be \"does not apply\". Keep your progress and thoughts organized in this document and use formatting as appropriate (using markdown to add headers and sub-headers for each major part). Some changes to the checklist:\n",
        "\n",
        "* Do not do the final part (launching the product).\n",
        "* Your presentation will be done as information written in this document in a dedicated section (no slides or anything like that). It should include high-level summary of your results (including what you learned about the data, the \"accuracy\" of your model, what features were important, etc). It should be written for your client, not your professor or teammates. It should include the best summary plots/graphics/data points.\n",
        "* The models and hyperparameters you should consider during short-listing and fine-tuning will be released at a later time (dependent on how far we get over the next two weeks).\n",
        "* Data retrieval must be automatic as part of the code (so it can easily be re-run and grab the latest data). Do not commit any data to the repository.\n",
        "* Your submission must include a pickled final model along with this notebook."
      ]
    },
    {
      "cell_type": "markdown",
      "metadata": {},
      "source": [
        "Frame the Problem\n",
        "=====================================\n",
        "\n",
        "1. **Define the objective in business terms:** \n",
        "    We are being hired by Dr. Jeff \"client\" Bush who is looking for a ML model that can detect delayed and cancled flights before they occur.\n",
        "2. **How will your solution be used?** \n",
        "    Our model will be used to quicken the regulation process, allowing penalisations to occur faster pressuring airlines to fix their problems sooner, hopefully decreasing delayed/canceled flights in the process.\n",
        "3. **What are the current solutions/workarounds (if any)?** \n",
        "    Currently airlines are being penalized by the Department of Transportation, although this process has led to a decrease in delayed/canceled flights, it is an extremely slow process.\n",
        "4. **How should you frame this problem?** \n",
        "    This is a classification problem since the goal is to predict whether a flight will be delayed or canceled based on historical data. The model will be trained on a labeled dataset where flights are categorized as on-time, delayed, or canceled, allowing it to learn patterns that contribute to disruptions. Since the predictions are intended to assist in regulatory enforcement rather than real time operational decisions, the model does not need to function as an online system. However, given the large volume of flight data, considerations for scalability and batch processing may be necessary. If real time predictions become a future requirement, the architecture may need adjustments to handle streaming data efficiently.\n",
        "5. **How should performance be measured? Is the performance measure aligned with the business objective?** \n",
        "    Performance is measured by precision, making sure that flights are not marked as delayed when they would be on time. In otherwords, avoiding false positives. The performance measure is aligned with the business objective as flights that are falsely marked as delayed could lead to unnecessary ticket refunds.\n",
        "6. **What would be the minimum performance needed to reach the business objective?** \n",
        "    The minimum performance required is 75%, so long as 75% of flights marked as delayed/canceled are marked correctly we would reach our business objective set by the client.\n",
        "7. **What are comparable problems? Can you reuse (personal or readily available) experience or tools?** \n",
        "    We have worked with predicting the status of a certain object through observing patterns and behaviors before with our divvy-data assignment. Looking at correlations of what makes a member, or in this case a delayed flight, will give us a good idea on the best way to determine the chances of a flight being delayed or canceled.\n",
        "8. **Is human expertise available?** \n",
        "    Yes, through our client\n",
        "9. **How would you solve the problem manually?**\n",
        "    Manually predicting flight delays and cancellations would involve analyzing historical flight data, identifying key factors such as weather conditions, airline performance, airport congestion, and mechanical issues. A rule-based approach could be used, where past trends inform probability assessments, for example, if an airline has a history of delays on a particular route or adverse weather is forecasted, the likelihood of delay increases. This process would require cross-referencing multiple data sources, such as FAA advisories and airline reports, to validate predictions. While feasible on a small scale, manual prediction is not scalable due to the complexity and volume of data, making machine learning a more efficient solution.\n",
        "10. **List the assumptions you (or others) have made so far. Verify assumptions if possible.** \n",
        "    Flight delays and cancellations are predictable based on historical patterns.\n",
        "    The available data is accurate and comprehensive although airlines may underreport delays.\n",
        "    Faster penalization will incentivize airlines to improve service quality.\n",
        "    Prioritizing precision over recall aligns with business objectives, though recall may also be important (detecting delays more often).\n"
      ]
    },
    {
      "cell_type": "markdown",
      "metadata": {},
      "source": [
        "Get the Data\n",
        "============\n",
        "\n",
        "1. **List the data you need and how much you need:**\n",
        "    - Flight Data from 2023-2024\n",
        "    - Ideas: Days that may be taken off by employees (holidays). \n",
        "2. **Find and document where you can get that data:**\n",
        "    - The data is available on the Beauru of Transportation website, and is saved in the flights_data csv.\n",
        "3. **Get access authorizations**:\n",
        "   - Public Data.\n",
        "4. **Create a workspace**: \n",
        "    - This notebook.\n",
        "5. **Get the data**: \n",
        "    - Data is available via download from the Beauru of Transportation website.\n",
        "6. **Convert the data to a format you can easily manipulate**:\n",
        "   - The data came in 24 separate zipped files and is now in a single csv file    "
      ]
    },
    {
      "cell_type": "code",
      "execution_count": 1,
      "metadata": {},
      "outputs": [],
      "source": [
        "import numpy as np\n",
        "import scipy as sp\n",
        "import pandas as pd\n",
        "import matplotlib.pylab as plt\n",
        "import seaborn as sns\n",
        "import boto3\n",
        "import zipfile\n",
        "import requests\n",
        "import io\n",
        "import os\n",
        "from sklearn.model_selection import train_test_split "
      ]
    },
    {
      "cell_type": "code",
      "execution_count": 3,
      "metadata": {},
      "outputs": [],
      "source": [
        "def download_flights_data():\n",
        "    df_list = []\n",
        "    \n",
        "    for filename in os.listdir(\"/Users/derekh/Desktop/neural networks/PROJ-Delayed-Real\"):\n",
        "\n",
        "        if filename.endswith('.csv'):\n",
        "            file_path = os.path.join(\"/Users/derekh/Desktop/neural networks/PROJ-Delayed-Real\", filename)\n",
        "            df = pd.read_csv(file_path)\n",
        "            df_list.append(df)\n",
        "    \n",
        "    data = pd.concat(df_list, ignore_index=True)\n",
        "    \n",
        "    data.to_csv('flights_data.csv', index=False)\n",
        "    return pd.read_csv('flights_data.csv')\n",
        "\n",
        "def load_flights_data():\n",
        "    if os.path.exists('flights_data.csv'):\n",
        "        print('flights_data.csv already exists, skipping download')\n",
        "        data = pd.read_csv('flights_data.csv')\n",
        "    else:\n",
        "        print('Downloading flights data...')\n",
        "        data = download_flights_data()\n",
        "    return data"
      ]
    },
    {
      "cell_type": "code",
      "execution_count": 4,
      "metadata": {},
      "outputs": [
        {
          "name": "stdout",
          "output_type": "stream",
          "text": [
            "flights_data.csv already exists, skipping download\n"
          ]
        },
        {
          "name": "stderr",
          "output_type": "stream",
          "text": [
            "/var/folders/kv/gjc128490fx1b6q6mtfm45bc0000gp/T/ipykernel_47668/3967089165.py:19: DtypeWarning: Columns (11,13,57) have mixed types. Specify dtype option on import or set low_memory=False.\n",
            "  data = pd.read_csv('flights_data.csv')\n"
          ]
        }
      ],
      "source": [
        "flights_data = load_flights_data()"
      ]
    },
    {
      "cell_type": "code",
      "execution_count": 5,
      "metadata": {},
      "outputs": [
        {
          "data": {
            "text/plain": [
              "(14825707, 73)"
            ]
          },
          "execution_count": 5,
          "metadata": {},
          "output_type": "execute_result"
        }
      ],
      "source": [
        "flights_data.shape"
      ]
    },
    {
      "cell_type": "code",
      "execution_count": 41,
      "metadata": {},
      "outputs": [
        {
          "data": {
            "text/html": [
              "<div>\n",
              "<style scoped>\n",
              "    .dataframe tbody tr th:only-of-type {\n",
              "        vertical-align: middle;\n",
              "    }\n",
              "\n",
              "    .dataframe tbody tr th {\n",
              "        vertical-align: top;\n",
              "    }\n",
              "\n",
              "    .dataframe thead th {\n",
              "        text-align: right;\n",
              "    }\n",
              "</style>\n",
              "<table border=\"1\" class=\"dataframe\">\n",
              "  <thead>\n",
              "    <tr style=\"text-align: right;\">\n",
              "      <th></th>\n",
              "      <th>Year</th>\n",
              "      <th>Quarter</th>\n",
              "      <th>Month</th>\n",
              "      <th>DayofMonth</th>\n",
              "      <th>DayOfWeek</th>\n",
              "      <th>FlightDate</th>\n",
              "      <th>Marketing_Airline_Network</th>\n",
              "      <th>Operated_or_Branded_Code_Share_Partners</th>\n",
              "      <th>DOT_ID_Marketing_Airline</th>\n",
              "      <th>IATA_Code_Marketing_Airline</th>\n",
              "      <th>...</th>\n",
              "      <th>Distance</th>\n",
              "      <th>DistanceGroup</th>\n",
              "      <th>CarrierDelay</th>\n",
              "      <th>WeatherDelay</th>\n",
              "      <th>NASDelay</th>\n",
              "      <th>SecurityDelay</th>\n",
              "      <th>LateAircraftDelay</th>\n",
              "      <th>FirstDepTime</th>\n",
              "      <th>TotalAddGTime</th>\n",
              "      <th>LongestAddGTime</th>\n",
              "    </tr>\n",
              "  </thead>\n",
              "  <tbody>\n",
              "    <tr>\n",
              "      <th>0</th>\n",
              "      <td>2023</td>\n",
              "      <td>4</td>\n",
              "      <td>12</td>\n",
              "      <td>30</td>\n",
              "      <td>6</td>\n",
              "      <td>12/30/23</td>\n",
              "      <td>DL</td>\n",
              "      <td>DL_CODESHARE</td>\n",
              "      <td>19790</td>\n",
              "      <td>DL</td>\n",
              "      <td>...</td>\n",
              "      <td>660</td>\n",
              "      <td>3</td>\n",
              "      <td>NaN</td>\n",
              "      <td>NaN</td>\n",
              "      <td>NaN</td>\n",
              "      <td>NaN</td>\n",
              "      <td>NaN</td>\n",
              "      <td>NaN</td>\n",
              "      <td>NaN</td>\n",
              "      <td>NaN</td>\n",
              "    </tr>\n",
              "    <tr>\n",
              "      <th>1</th>\n",
              "      <td>2023</td>\n",
              "      <td>4</td>\n",
              "      <td>12</td>\n",
              "      <td>30</td>\n",
              "      <td>6</td>\n",
              "      <td>12/30/23</td>\n",
              "      <td>DL</td>\n",
              "      <td>DL_CODESHARE</td>\n",
              "      <td>19790</td>\n",
              "      <td>DL</td>\n",
              "      <td>...</td>\n",
              "      <td>660</td>\n",
              "      <td>3</td>\n",
              "      <td>NaN</td>\n",
              "      <td>NaN</td>\n",
              "      <td>NaN</td>\n",
              "      <td>NaN</td>\n",
              "      <td>NaN</td>\n",
              "      <td>NaN</td>\n",
              "      <td>NaN</td>\n",
              "      <td>NaN</td>\n",
              "    </tr>\n",
              "    <tr>\n",
              "      <th>2</th>\n",
              "      <td>2023</td>\n",
              "      <td>4</td>\n",
              "      <td>12</td>\n",
              "      <td>1</td>\n",
              "      <td>5</td>\n",
              "      <td>12/1/23</td>\n",
              "      <td>DL</td>\n",
              "      <td>DL_CODESHARE</td>\n",
              "      <td>19790</td>\n",
              "      <td>DL</td>\n",
              "      <td>...</td>\n",
              "      <td>888</td>\n",
              "      <td>4</td>\n",
              "      <td>NaN</td>\n",
              "      <td>NaN</td>\n",
              "      <td>NaN</td>\n",
              "      <td>NaN</td>\n",
              "      <td>NaN</td>\n",
              "      <td>NaN</td>\n",
              "      <td>NaN</td>\n",
              "      <td>NaN</td>\n",
              "    </tr>\n",
              "    <tr>\n",
              "      <th>3</th>\n",
              "      <td>2023</td>\n",
              "      <td>4</td>\n",
              "      <td>12</td>\n",
              "      <td>3</td>\n",
              "      <td>7</td>\n",
              "      <td>12/3/23</td>\n",
              "      <td>DL</td>\n",
              "      <td>DL_CODESHARE</td>\n",
              "      <td>19790</td>\n",
              "      <td>DL</td>\n",
              "      <td>...</td>\n",
              "      <td>888</td>\n",
              "      <td>4</td>\n",
              "      <td>0.0</td>\n",
              "      <td>0.0</td>\n",
              "      <td>21.0</td>\n",
              "      <td>0.0</td>\n",
              "      <td>23.0</td>\n",
              "      <td>NaN</td>\n",
              "      <td>NaN</td>\n",
              "      <td>NaN</td>\n",
              "    </tr>\n",
              "    <tr>\n",
              "      <th>4</th>\n",
              "      <td>2023</td>\n",
              "      <td>4</td>\n",
              "      <td>12</td>\n",
              "      <td>4</td>\n",
              "      <td>1</td>\n",
              "      <td>12/4/23</td>\n",
              "      <td>DL</td>\n",
              "      <td>DL_CODESHARE</td>\n",
              "      <td>19790</td>\n",
              "      <td>DL</td>\n",
              "      <td>...</td>\n",
              "      <td>888</td>\n",
              "      <td>4</td>\n",
              "      <td>NaN</td>\n",
              "      <td>NaN</td>\n",
              "      <td>NaN</td>\n",
              "      <td>NaN</td>\n",
              "      <td>NaN</td>\n",
              "      <td>NaN</td>\n",
              "      <td>NaN</td>\n",
              "      <td>NaN</td>\n",
              "    </tr>\n",
              "  </tbody>\n",
              "</table>\n",
              "<p>5 rows × 73 columns</p>\n",
              "</div>"
            ],
            "text/plain": [
              "   Year  Quarter  Month  DayofMonth  DayOfWeek FlightDate  \\\n",
              "0  2023        4     12          30          6   12/30/23   \n",
              "1  2023        4     12          30          6   12/30/23   \n",
              "2  2023        4     12           1          5    12/1/23   \n",
              "3  2023        4     12           3          7    12/3/23   \n",
              "4  2023        4     12           4          1    12/4/23   \n",
              "\n",
              "  Marketing_Airline_Network Operated_or_Branded_Code_Share_Partners  \\\n",
              "0                        DL                            DL_CODESHARE   \n",
              "1                        DL                            DL_CODESHARE   \n",
              "2                        DL                            DL_CODESHARE   \n",
              "3                        DL                            DL_CODESHARE   \n",
              "4                        DL                            DL_CODESHARE   \n",
              "\n",
              "   DOT_ID_Marketing_Airline IATA_Code_Marketing_Airline  ...  Distance  \\\n",
              "0                     19790                          DL  ...       660   \n",
              "1                     19790                          DL  ...       660   \n",
              "2                     19790                          DL  ...       888   \n",
              "3                     19790                          DL  ...       888   \n",
              "4                     19790                          DL  ...       888   \n",
              "\n",
              "  DistanceGroup  CarrierDelay WeatherDelay  NASDelay SecurityDelay  \\\n",
              "0             3           NaN          NaN       NaN           NaN   \n",
              "1             3           NaN          NaN       NaN           NaN   \n",
              "2             4           NaN          NaN       NaN           NaN   \n",
              "3             4           0.0          0.0      21.0           0.0   \n",
              "4             4           NaN          NaN       NaN           NaN   \n",
              "\n",
              "   LateAircraftDelay FirstDepTime TotalAddGTime  LongestAddGTime  \n",
              "0                NaN          NaN           NaN              NaN  \n",
              "1                NaN          NaN           NaN              NaN  \n",
              "2                NaN          NaN           NaN              NaN  \n",
              "3               23.0          NaN           NaN              NaN  \n",
              "4                NaN          NaN           NaN              NaN  \n",
              "\n",
              "[5 rows x 73 columns]"
            ]
          },
          "execution_count": 41,
          "metadata": {},
          "output_type": "execute_result"
        }
      ],
      "source": [
        "flights_data.head()"
      ]
    },
    {
      "cell_type": "markdown",
      "metadata": {},
      "source": [
        "**ArrDel15/DepDel15/Cancelled** - Project labels that define whether a flight is delayed or cancleled.\n",
        "\n",
        "**Missing Values:** WeatherDelay, NASDelay, SecurityDelay\n",
        "\n",
        "**Distance** - the distance of a flight may be helpful in detecting whether or not a flight is delayed or canceled as they required more meticulous planning and complex scheduling dependancies.\n",
        "\n",
        "**Origin/Dest** - Could be useful for detecting regional effects like severe weather or congestion.\n",
        "\n",
        "**CRSDepTime/CRSArrTime** - The scheduled depature and arrival time for flights, determines whether the flight is at \"peak hours\" or \"off peak\" which could impact delays."
      ]
    },
    {
      "cell_type": "code",
      "execution_count": 7,
      "metadata": {},
      "outputs": [
        {
          "name": "stdout",
          "output_type": "stream",
          "text": [
            "<class 'pandas.core.frame.DataFrame'>\n",
            "RangeIndex: 14825707 entries, 0 to 14825706\n",
            "Data columns (total 73 columns):\n",
            " #   Column                                              Dtype  \n",
            "---  ------                                              -----  \n",
            " 0   Year                                                int64  \n",
            " 1   Quarter                                             int64  \n",
            " 2   Month                                               int64  \n",
            " 3   DayofMonth                                          int64  \n",
            " 4   DayOfWeek                                           int64  \n",
            " 5   FlightDate                                          object \n",
            " 6   Marketing_Airline_Network                           object \n",
            " 7   Operated_or_Branded_Code_Share_Partners             object \n",
            " 8   DOT_ID_Marketing_Airline                            int64  \n",
            " 9   IATA_Code_Marketing_Airline                         object \n",
            " 10  Flight_Number_Marketing_Airline                     float64\n",
            " 11  Originally_Scheduled_Code_Share_Airline             object \n",
            " 12  DOT_ID_Originally_Scheduled_Code_Share_Airline      float64\n",
            " 13  IATA_Code_Originally_Scheduled_Code_Share_Airline   object \n",
            " 14  Flight_Num_Originally_Scheduled_Code_Share_Airline  float64\n",
            " 15  Operating_Airline                                   object \n",
            " 16  DOT_ID_Operating_Airline                            int64  \n",
            " 17  IATA_Code_Operating_Airline                         object \n",
            " 18  Tail_Number                                         object \n",
            " 19  Flight_Number_Operating_Airline                     float64\n",
            " 20  OriginAirportID                                     int64  \n",
            " 21  OriginAirportSeqID                                  int64  \n",
            " 22  OriginCityMarketID                                  int64  \n",
            " 23  Origin                                              object \n",
            " 24  OriginCityName                                      object \n",
            " 25  OriginState                                         object \n",
            " 26  OriginStateFips                                     int64  \n",
            " 27  OriginStateName                                     object \n",
            " 28  OriginWac                                           int64  \n",
            " 29  DestAirportID                                       int64  \n",
            " 30  DestAirportSeqID                                    int64  \n",
            " 31  DestCityMarketID                                    int64  \n",
            " 32  Dest                                                object \n",
            " 33  DestCityName                                        object \n",
            " 34  DestState                                           object \n",
            " 35  DestStateFips                                       int64  \n",
            " 36  DestStateName                                       object \n",
            " 37  DestWac                                             int64  \n",
            " 38  CRSDepTime                                          int64  \n",
            " 39  DepTime                                             float64\n",
            " 40  DepDelay                                            float64\n",
            " 41  DepDelayMinutes                                     float64\n",
            " 42  DepDel15                                            float64\n",
            " 43  DepartureDelayGroups                                float64\n",
            " 44  DepTimeBlk                                          object \n",
            " 45  TaxiOut                                             float64\n",
            " 46  WheelsOff                                           float64\n",
            " 47  WheelsOn                                            float64\n",
            " 48  TaxiIn                                              float64\n",
            " 49  CRSArrTime                                          int64  \n",
            " 50  ArrTime                                             float64\n",
            " 51  ArrDelay                                            float64\n",
            " 52  ArrDelayMinutes                                     float64\n",
            " 53  ArrDel15                                            float64\n",
            " 54  ArrivalDelayGroups                                  float64\n",
            " 55  ArrTimeBlk                                          object \n",
            " 56  Cancelled                                           int64  \n",
            " 57  CancellationCode                                    object \n",
            " 58  Diverted                                            int64  \n",
            " 59  CRSElapsedTime                                      float64\n",
            " 60  ActualElapsedTime                                   float64\n",
            " 61  AirTime                                             float64\n",
            " 62  Flights                                             int64  \n",
            " 63  Distance                                            int64  \n",
            " 64  DistanceGroup                                       int64  \n",
            " 65  CarrierDelay                                        float64\n",
            " 66  WeatherDelay                                        float64\n",
            " 67  NASDelay                                            float64\n",
            " 68  SecurityDelay                                       float64\n",
            " 69  LateAircraftDelay                                   float64\n",
            " 70  FirstDepTime                                        float64\n",
            " 71  TotalAddGTime                                       float64\n",
            " 72  LongestAddGTime                                     float64\n",
            "dtypes: float64(29), int64(24), object(20)\n",
            "memory usage: 8.1+ GB\n"
          ]
        }
      ],
      "source": [
        "flights_data.info()"
      ]
    },
    {
      "cell_type": "code",
      "execution_count": 8,
      "metadata": {},
      "outputs": [
        {
          "data": {
            "text/plain": [
              "0.0"
            ]
          },
          "execution_count": 8,
          "metadata": {},
          "output_type": "execute_result"
        }
      ],
      "source": [
        "# percentage missing number of values for FlightDate\n",
        "flights_data['OriginAirportID'].isnull().sum() / flights_data.shape[0]"
      ]
    },
    {
      "cell_type": "code",
      "execution_count": 9,
      "metadata": {},
      "outputs": [
        {
          "data": {
            "text/plain": [
              "Flight_Number_Marketing_Airline\n",
              "555.0     6511\n",
              "777.0     6216\n",
              "540.0     6040\n",
              "323.0     6029\n",
              "354.0     5918\n",
              "          ... \n",
              "6695.0       1\n",
              "6644.0       1\n",
              "6662.0       1\n",
              "6661.0       1\n",
              "6668.0       1\n",
              "Name: count, Length: 6995, dtype: int64"
            ]
          },
          "execution_count": 9,
          "metadata": {},
          "output_type": "execute_result"
        }
      ],
      "source": [
        "flights_data['Flight_Number_Marketing_Airline'].value_counts()"
      ]
    },
    {
      "cell_type": "markdown",
      "metadata": {},
      "source": [
        "| Attribute          | Type             | Missing | Noise                                                              | Usefulness   | Distribution                                  |\n",
        "| ------------------ | ---------------- | ------- | ------------------------------------------------------------------ | ------------ | --------------------------------------------- |\n",
        "| Year      | datetime      | 0%      | None                                                               | Useful | 2023 or 2024                         |\n",
        "| Quarter            | datetime             | 0%      | None                                                               | Useful   | 1-4                             |\n",
        "| Month      | categorical      | 0%      | None                       | Useful       | 1-12 |\n",
        "| DayOfMonth         | datetime         | 0%      | None                                                               | Useful       | 1-31          |\n",
        "| DayOfWeek           | datetime         | 0%      | None                                                               | Useful       | 1-7          |\n",
        "| FlightDate | datetime             | 0%     | None                   | Not useful. Year, Month, DayofMonth tell us this info already    | dates from 1/1/23-12/30/24          |\n",
        "| Marketing_Airline_Network   | text             | 0%     | None              | Possibly    | Airline that markets the flight          |\n",
        "| Operated_or_Branded_Code_Share_Partners      | text  | 0%      | none         | Minimally       | N/A           |\n",
        "| DOT_ID_Marketing_Airline   | numerical             | 0%     | None                   | Possibly    | ID for marketing airline          |\n",
        "| IATA_Code_Marketing_Airline     | numerical             | 0%     | None              | Not useful    | N/A         |\n",
        "| Flight_Number_Marketing_Airline        | numerical  | 0%    | None         | Not useful       | N/A           |\n",
        "| distance*          | numerical (km)   | 0.1%    | Lots of 0s, some very high values; not true distance; round trips? | Possibly     | Peak at 5m and 1.3 km                         |\n",
        "| start_to_center*   | numerical (km)   | 0.001%  | Some very high values                                              | Not useful   | Peak at ~2 km                                 |\n",
        "| end_to_center*     | numerical (km)   | 0.1%    | Some very high values                                              | Not useful   | Peak at ~2 km                                 |\n",
        "| duration*          | numerical (min)  | 0%      | Some negative or very high values                                  | Useful       | Peak at 7 minutes, log-normal                 |\n",
        "| speed*             | numerical (km/h) | 0.2%    | Lots of 0s; some very high values; not true speeds; round trips?   | Possibly     | Peak at 13 km/h, almost log-normal            |\n",
        "| workday            | boolean          | 0%      | Not all holidays included, and not all are observed equally        | Useful       | 67% workday, 33% weekend (expected ~70%/30%)  |"
      ]
    },
    {
      "cell_type": "code",
      "execution_count": 10,
      "metadata": {},
      "outputs": [
        {
          "data": {
            "text/html": [
              "<div>\n",
              "<style scoped>\n",
              "    .dataframe tbody tr th:only-of-type {\n",
              "        vertical-align: middle;\n",
              "    }\n",
              "\n",
              "    .dataframe tbody tr th {\n",
              "        vertical-align: top;\n",
              "    }\n",
              "\n",
              "    .dataframe thead th {\n",
              "        text-align: right;\n",
              "    }\n",
              "</style>\n",
              "<table border=\"1\" class=\"dataframe\">\n",
              "  <thead>\n",
              "    <tr style=\"text-align: right;\">\n",
              "      <th></th>\n",
              "      <th>Year</th>\n",
              "      <th>Quarter</th>\n",
              "      <th>Month</th>\n",
              "      <th>DayofMonth</th>\n",
              "      <th>DayOfWeek</th>\n",
              "      <th>DOT_ID_Marketing_Airline</th>\n",
              "      <th>Flight_Number_Marketing_Airline</th>\n",
              "      <th>DOT_ID_Originally_Scheduled_Code_Share_Airline</th>\n",
              "      <th>Flight_Num_Originally_Scheduled_Code_Share_Airline</th>\n",
              "      <th>DOT_ID_Operating_Airline</th>\n",
              "      <th>...</th>\n",
              "      <th>Distance</th>\n",
              "      <th>DistanceGroup</th>\n",
              "      <th>CarrierDelay</th>\n",
              "      <th>WeatherDelay</th>\n",
              "      <th>NASDelay</th>\n",
              "      <th>SecurityDelay</th>\n",
              "      <th>LateAircraftDelay</th>\n",
              "      <th>FirstDepTime</th>\n",
              "      <th>TotalAddGTime</th>\n",
              "      <th>LongestAddGTime</th>\n",
              "    </tr>\n",
              "  </thead>\n",
              "  <tbody>\n",
              "    <tr>\n",
              "      <th>count</th>\n",
              "      <td>1.482571e+07</td>\n",
              "      <td>1.482571e+07</td>\n",
              "      <td>1.482571e+07</td>\n",
              "      <td>1.482571e+07</td>\n",
              "      <td>1.482571e+07</td>\n",
              "      <td>1.482571e+07</td>\n",
              "      <td>1.482571e+07</td>\n",
              "      <td>1603.000000</td>\n",
              "      <td>1603.000000</td>\n",
              "      <td>1.482571e+07</td>\n",
              "      <td>...</td>\n",
              "      <td>1.482571e+07</td>\n",
              "      <td>1.482571e+07</td>\n",
              "      <td>2.995616e+06</td>\n",
              "      <td>2.995616e+06</td>\n",
              "      <td>2.995616e+06</td>\n",
              "      <td>2.995616e+06</td>\n",
              "      <td>2.995616e+06</td>\n",
              "      <td>102229.000000</td>\n",
              "      <td>102210.000000</td>\n",
              "      <td>102210.000000</td>\n",
              "    </tr>\n",
              "    <tr>\n",
              "      <th>mean</th>\n",
              "      <td>2.023509e+03</td>\n",
              "      <td>2.528918e+00</td>\n",
              "      <td>6.586377e+00</td>\n",
              "      <td>1.577153e+01</td>\n",
              "      <td>3.983661e+00</td>\n",
              "      <td>1.982673e+04</td>\n",
              "      <td>2.551421e+03</td>\n",
              "      <td>20340.041173</td>\n",
              "      <td>5161.464754</td>\n",
              "      <td>1.996517e+04</td>\n",
              "      <td>...</td>\n",
              "      <td>8.066236e+02</td>\n",
              "      <td>3.700077e+00</td>\n",
              "      <td>2.489971e+01</td>\n",
              "      <td>4.090163e+00</td>\n",
              "      <td>1.300443e+01</td>\n",
              "      <td>1.314020e-01</td>\n",
              "      <td>2.884685e+01</td>\n",
              "      <td>1343.073384</td>\n",
              "      <td>40.823608</td>\n",
              "      <td>39.907553</td>\n",
              "    </tr>\n",
              "    <tr>\n",
              "      <th>std</th>\n",
              "      <td>4.999182e-01</td>\n",
              "      <td>1.106852e+00</td>\n",
              "      <td>3.403419e+00</td>\n",
              "      <td>8.781058e+00</td>\n",
              "      <td>2.007278e+00</td>\n",
              "      <td>2.825329e+02</td>\n",
              "      <td>1.710155e+03</td>\n",
              "      <td>123.628984</td>\n",
              "      <td>1054.977257</td>\n",
              "      <td>3.748050e+02</td>\n",
              "      <td>...</td>\n",
              "      <td>5.922690e+02</td>\n",
              "      <td>2.325704e+00</td>\n",
              "      <td>7.658620e+01</td>\n",
              "      <td>3.370453e+01</td>\n",
              "      <td>3.139895e+01</td>\n",
              "      <td>3.370272e+00</td>\n",
              "      <td>6.458379e+01</td>\n",
              "      <td>513.825412</td>\n",
              "      <td>35.809893</td>\n",
              "      <td>33.997188</td>\n",
              "    </tr>\n",
              "    <tr>\n",
              "      <th>min</th>\n",
              "      <td>2.023000e+03</td>\n",
              "      <td>1.000000e+00</td>\n",
              "      <td>1.000000e+00</td>\n",
              "      <td>1.000000e+00</td>\n",
              "      <td>1.000000e+00</td>\n",
              "      <td>1.939300e+04</td>\n",
              "      <td>1.000000e+00</td>\n",
              "      <td>20046.000000</td>\n",
              "      <td>3068.000000</td>\n",
              "      <td>1.939300e+04</td>\n",
              "      <td>...</td>\n",
              "      <td>1.100000e+01</td>\n",
              "      <td>1.000000e+00</td>\n",
              "      <td>0.000000e+00</td>\n",
              "      <td>0.000000e+00</td>\n",
              "      <td>0.000000e+00</td>\n",
              "      <td>0.000000e+00</td>\n",
              "      <td>0.000000e+00</td>\n",
              "      <td>1.000000</td>\n",
              "      <td>1.000000</td>\n",
              "      <td>1.000000</td>\n",
              "    </tr>\n",
              "    <tr>\n",
              "      <th>25%</th>\n",
              "      <td>2.023000e+03</td>\n",
              "      <td>2.000000e+00</td>\n",
              "      <td>4.000000e+00</td>\n",
              "      <td>8.000000e+00</td>\n",
              "      <td>2.000000e+00</td>\n",
              "      <td>1.979000e+04</td>\n",
              "      <td>1.154000e+03</td>\n",
              "      <td>20378.000000</td>\n",
              "      <td>4121.000000</td>\n",
              "      <td>1.979000e+04</td>\n",
              "      <td>...</td>\n",
              "      <td>3.730000e+02</td>\n",
              "      <td>2.000000e+00</td>\n",
              "      <td>0.000000e+00</td>\n",
              "      <td>0.000000e+00</td>\n",
              "      <td>0.000000e+00</td>\n",
              "      <td>0.000000e+00</td>\n",
              "      <td>0.000000e+00</td>\n",
              "      <td>901.000000</td>\n",
              "      <td>18.000000</td>\n",
              "      <td>18.000000</td>\n",
              "    </tr>\n",
              "    <tr>\n",
              "      <th>50%</th>\n",
              "      <td>2.024000e+03</td>\n",
              "      <td>3.000000e+00</td>\n",
              "      <td>7.000000e+00</td>\n",
              "      <td>1.600000e+01</td>\n",
              "      <td>4.000000e+00</td>\n",
              "      <td>1.980500e+04</td>\n",
              "      <td>2.233000e+03</td>\n",
              "      <td>20378.000000</td>\n",
              "      <td>5749.000000</td>\n",
              "      <td>1.993000e+04</td>\n",
              "      <td>...</td>\n",
              "      <td>6.490000e+02</td>\n",
              "      <td>3.000000e+00</td>\n",
              "      <td>3.000000e+00</td>\n",
              "      <td>0.000000e+00</td>\n",
              "      <td>0.000000e+00</td>\n",
              "      <td>0.000000e+00</td>\n",
              "      <td>2.000000e+00</td>\n",
              "      <td>1353.000000</td>\n",
              "      <td>30.000000</td>\n",
              "      <td>30.000000</td>\n",
              "    </tr>\n",
              "    <tr>\n",
              "      <th>75%</th>\n",
              "      <td>2.024000e+03</td>\n",
              "      <td>4.000000e+00</td>\n",
              "      <td>1.000000e+01</td>\n",
              "      <td>2.300000e+01</td>\n",
              "      <td>6.000000e+00</td>\n",
              "      <td>1.997700e+04</td>\n",
              "      <td>3.777000e+03</td>\n",
              "      <td>20398.000000</td>\n",
              "      <td>6095.000000</td>\n",
              "      <td>2.036800e+04</td>\n",
              "      <td>...</td>\n",
              "      <td>1.045000e+03</td>\n",
              "      <td>5.000000e+00</td>\n",
              "      <td>2.200000e+01</td>\n",
              "      <td>0.000000e+00</td>\n",
              "      <td>1.700000e+01</td>\n",
              "      <td>0.000000e+00</td>\n",
              "      <td>3.300000e+01</td>\n",
              "      <td>1750.000000</td>\n",
              "      <td>50.000000</td>\n",
              "      <td>49.000000</td>\n",
              "    </tr>\n",
              "    <tr>\n",
              "      <th>max</th>\n",
              "      <td>2.024000e+03</td>\n",
              "      <td>4.000000e+00</td>\n",
              "      <td>1.200000e+01</td>\n",
              "      <td>3.100000e+01</td>\n",
              "      <td>7.000000e+00</td>\n",
              "      <td>2.043600e+04</td>\n",
              "      <td>9.887000e+03</td>\n",
              "      <td>20500.000000</td>\n",
              "      <td>6378.000000</td>\n",
              "      <td>2.050000e+04</td>\n",
              "      <td>...</td>\n",
              "      <td>5.095000e+03</td>\n",
              "      <td>1.100000e+01</td>\n",
              "      <td>5.764000e+03</td>\n",
              "      <td>2.419000e+03</td>\n",
              "      <td>2.700000e+03</td>\n",
              "      <td>1.460000e+03</td>\n",
              "      <td>3.581000e+03</td>\n",
              "      <td>2400.000000</td>\n",
              "      <td>423.000000</td>\n",
              "      <td>423.000000</td>\n",
              "    </tr>\n",
              "  </tbody>\n",
              "</table>\n",
              "<p>8 rows × 53 columns</p>\n",
              "</div>"
            ],
            "text/plain": [
              "               Year       Quarter         Month    DayofMonth     DayOfWeek  \\\n",
              "count  1.482571e+07  1.482571e+07  1.482571e+07  1.482571e+07  1.482571e+07   \n",
              "mean   2.023509e+03  2.528918e+00  6.586377e+00  1.577153e+01  3.983661e+00   \n",
              "std    4.999182e-01  1.106852e+00  3.403419e+00  8.781058e+00  2.007278e+00   \n",
              "min    2.023000e+03  1.000000e+00  1.000000e+00  1.000000e+00  1.000000e+00   \n",
              "25%    2.023000e+03  2.000000e+00  4.000000e+00  8.000000e+00  2.000000e+00   \n",
              "50%    2.024000e+03  3.000000e+00  7.000000e+00  1.600000e+01  4.000000e+00   \n",
              "75%    2.024000e+03  4.000000e+00  1.000000e+01  2.300000e+01  6.000000e+00   \n",
              "max    2.024000e+03  4.000000e+00  1.200000e+01  3.100000e+01  7.000000e+00   \n",
              "\n",
              "       DOT_ID_Marketing_Airline  Flight_Number_Marketing_Airline  \\\n",
              "count              1.482571e+07                     1.482571e+07   \n",
              "mean               1.982673e+04                     2.551421e+03   \n",
              "std                2.825329e+02                     1.710155e+03   \n",
              "min                1.939300e+04                     1.000000e+00   \n",
              "25%                1.979000e+04                     1.154000e+03   \n",
              "50%                1.980500e+04                     2.233000e+03   \n",
              "75%                1.997700e+04                     3.777000e+03   \n",
              "max                2.043600e+04                     9.887000e+03   \n",
              "\n",
              "       DOT_ID_Originally_Scheduled_Code_Share_Airline  \\\n",
              "count                                     1603.000000   \n",
              "mean                                     20340.041173   \n",
              "std                                        123.628984   \n",
              "min                                      20046.000000   \n",
              "25%                                      20378.000000   \n",
              "50%                                      20378.000000   \n",
              "75%                                      20398.000000   \n",
              "max                                      20500.000000   \n",
              "\n",
              "       Flight_Num_Originally_Scheduled_Code_Share_Airline  \\\n",
              "count                                        1603.000000    \n",
              "mean                                         5161.464754    \n",
              "std                                          1054.977257    \n",
              "min                                          3068.000000    \n",
              "25%                                          4121.000000    \n",
              "50%                                          5749.000000    \n",
              "75%                                          6095.000000    \n",
              "max                                          6378.000000    \n",
              "\n",
              "       DOT_ID_Operating_Airline  ...      Distance  DistanceGroup  \\\n",
              "count              1.482571e+07  ...  1.482571e+07   1.482571e+07   \n",
              "mean               1.996517e+04  ...  8.066236e+02   3.700077e+00   \n",
              "std                3.748050e+02  ...  5.922690e+02   2.325704e+00   \n",
              "min                1.939300e+04  ...  1.100000e+01   1.000000e+00   \n",
              "25%                1.979000e+04  ...  3.730000e+02   2.000000e+00   \n",
              "50%                1.993000e+04  ...  6.490000e+02   3.000000e+00   \n",
              "75%                2.036800e+04  ...  1.045000e+03   5.000000e+00   \n",
              "max                2.050000e+04  ...  5.095000e+03   1.100000e+01   \n",
              "\n",
              "       CarrierDelay  WeatherDelay      NASDelay  SecurityDelay  \\\n",
              "count  2.995616e+06  2.995616e+06  2.995616e+06   2.995616e+06   \n",
              "mean   2.489971e+01  4.090163e+00  1.300443e+01   1.314020e-01   \n",
              "std    7.658620e+01  3.370453e+01  3.139895e+01   3.370272e+00   \n",
              "min    0.000000e+00  0.000000e+00  0.000000e+00   0.000000e+00   \n",
              "25%    0.000000e+00  0.000000e+00  0.000000e+00   0.000000e+00   \n",
              "50%    3.000000e+00  0.000000e+00  0.000000e+00   0.000000e+00   \n",
              "75%    2.200000e+01  0.000000e+00  1.700000e+01   0.000000e+00   \n",
              "max    5.764000e+03  2.419000e+03  2.700000e+03   1.460000e+03   \n",
              "\n",
              "       LateAircraftDelay   FirstDepTime  TotalAddGTime  LongestAddGTime  \n",
              "count       2.995616e+06  102229.000000  102210.000000    102210.000000  \n",
              "mean        2.884685e+01    1343.073384      40.823608        39.907553  \n",
              "std         6.458379e+01     513.825412      35.809893        33.997188  \n",
              "min         0.000000e+00       1.000000       1.000000         1.000000  \n",
              "25%         0.000000e+00     901.000000      18.000000        18.000000  \n",
              "50%         2.000000e+00    1353.000000      30.000000        30.000000  \n",
              "75%         3.300000e+01    1750.000000      50.000000        49.000000  \n",
              "max         3.581000e+03    2400.000000     423.000000       423.000000  \n",
              "\n",
              "[8 rows x 53 columns]"
            ]
          },
          "execution_count": 10,
          "metadata": {},
          "output_type": "execute_result"
        }
      ],
      "source": [
        "flights_data.describe()"
      ]
    },
    {
      "cell_type": "markdown",
      "metadata": {},
      "source": [
        "There are a wide range of numerical values, some having significant variance which suggests extreme values or outliers. The features CarrierDelay, WeatherDelay and LateaAircraftDelay have high standard deviatons which infers that most flights experience little to no delay while some flights suffer extreme disruptions.\n",
        "\n",
        "The data has strong right skewness, particularly in delay-related columns, meaning that a majority of flights operate on time while a smaller number face extreme delays. There is a high variance in numerical attributes, and certain factors like distance, time-of-day, and airline-specific factors will likely be strong predictors of delay probability. Given the class imbalance issue, we should use sampling strategies or weighted loss functions to prevent the model from biasing towards \"on-time\" predictions. Incorporating categorical transformations, engineered features (e.g., flight distance categories, peak hour indicators), and outlier handling will be important for building an effective model.\n"
      ]
    },
    {
      "cell_type": "code",
      "execution_count": 12,
      "metadata": {},
      "outputs": [
        {
          "data": {
            "text/plain": [
              "Diverted\n",
              "0    14789079\n",
              "1       36628\n",
              "Name: count, dtype: int64"
            ]
          },
          "execution_count": 12,
          "metadata": {},
          "output_type": "execute_result"
        }
      ],
      "source": [
        "# number of diverted flights\n",
        "flights_data['Diverted'].value_counts()"
      ]
    },
    {
      "cell_type": "markdown",
      "metadata": {},
      "source": [
        "Currently 36,628 flights that are diverted. Remove this since they are not being included."
      ]
    },
    {
      "cell_type": "code",
      "execution_count": 13,
      "metadata": {},
      "outputs": [],
      "source": [
        "# remove diverted flights from data\n",
        "flights_data = flights_data[flights_data['Diverted'] == 0]"
      ]
    },
    {
      "cell_type": "code",
      "execution_count": 14,
      "metadata": {},
      "outputs": [
        {
          "data": {
            "text/plain": [
              "CancellationCode\n",
              "B    110983\n",
              "A     57369\n",
              "C     28235\n",
              "D       218\n",
              "Name: count, dtype: int64"
            ]
          },
          "execution_count": 14,
          "metadata": {},
          "output_type": "execute_result"
        }
      ],
      "source": [
        "# number of unique cancellation codes with values for each\n",
        "flights_data['CancellationCode'].value_counts()"
      ]
    },
    {
      "cell_type": "markdown",
      "metadata": {},
      "source": [
        "A - Carrier cancellation\n",
        "\n",
        "B - Weather cancellation\n",
        "\n",
        "C - National Air System cancellation\n",
        "\n",
        "D - Security cancellation"
      ]
    },
    {
      "cell_type": "code",
      "execution_count": 15,
      "metadata": {},
      "outputs": [
        {
          "data": {
            "text/plain": [
              "(-100.0, 300.0)"
            ]
          },
          "execution_count": 15,
          "metadata": {},
          "output_type": "execute_result"
        },
        {
          "data": {
            "image/png": "[encoded data removed]",
            "text/plain": [
              "<Figure size 640x480 with 1 Axes>"
            ]
          },
          "metadata": {},
          "output_type": "display_data"
        }
      ],
      "source": [
        "# Arrival delay histogram\n",
        "flights_data['ArrDelay'].hist(bins=300)\n",
        "plt.xlim(-100, 300)\n",
        "\n"
      ]
    },
    {
      "cell_type": "code",
      "execution_count": 16,
      "metadata": {},
      "outputs": [
        {
          "data": {
            "text/plain": [
              "(-50.0, 300.0)"
            ]
          },
          "execution_count": 16,
          "metadata": {},
          "output_type": "execute_result"
        },
        {
          "data": {
            "image/png": "[encoded data removed]",
            "text/plain": [
              "<Figure size 640x480 with 1 Axes>"
            ]
          },
          "metadata": {},
          "output_type": "display_data"
        }
      ],
      "source": [
        "# departure delay histogram\n",
        "flights_data['DepDelay'].hist(bins=300)\n",
        "plt.xlim(-50, 300)"
      ]
    },
    {
      "cell_type": "code",
      "execution_count": 17,
      "metadata": {},
      "outputs": [
        {
          "data": {
            "text/plain": [
              "(0.0, 250.0)"
            ]
          },
          "execution_count": 17,
          "metadata": {},
          "output_type": "execute_result"
        },
        {
          "data": {
            "image/png": "[encoded data removed]",
            "text/plain": [
              "<Figure size 640x480 with 1 Axes>"
            ]
          },
          "metadata": {},
          "output_type": "display_data"
        }
      ],
      "source": [
        "flights_data['DepDelayMinutes'].hist(bins=300)\n",
        "plt.xlim(0, 250)"
      ]
    },
    {
      "cell_type": "code",
      "execution_count": 18,
      "metadata": {},
      "outputs": [
        {
          "data": {
            "text/plain": [
              "DepDel15\n",
              "0.0    11637669\n",
              "1.0     2962005\n",
              "Name: count, dtype: int64"
            ]
          },
          "execution_count": 18,
          "metadata": {},
          "output_type": "execute_result"
        }
      ],
      "source": [
        "# DepDel15 values\n",
        "flights_data['DepDel15'].value_counts()"
      ]
    },
    {
      "cell_type": "markdown",
      "metadata": {},
      "source": [
        "2,962,005 departure flights with delays greater than 15 minutes"
      ]
    },
    {
      "cell_type": "code",
      "execution_count": 19,
      "metadata": {},
      "outputs": [
        {
          "data": {
            "text/plain": [
              "ArrDel15\n",
              "0.0    11596654\n",
              "1.0     2995619\n",
              "Name: count, dtype: int64"
            ]
          },
          "execution_count": 19,
          "metadata": {},
          "output_type": "execute_result"
        }
      ],
      "source": [
        "flights_data['ArrDel15'].value_counts()"
      ]
    },
    {
      "cell_type": "markdown",
      "metadata": {},
      "source": [
        "2,995,619 arrival flights with delays greater than 15 minutes"
      ]
    },
    {
      "cell_type": "markdown",
      "metadata": {},
      "source": [
        "Both arrival and departure delays exhibit a strong right-skewed distribution, meaning that most flights either depart and arrive on time or with minor delays, while a small percentage suffer extreme delays. The majority of flights cluster around 0 to 15 minutes of delay, with very few experiencing delays of over 100 minutes. We'll most likely need to use some resampling techniques (oversampling delayed flights, undersampling on-time flights) may be necessary for accurate classification. There is a significant difference in the distributions of arrival and departure delays, with departure delays being more frequent and more tightly clustered around zero compared to arrival delays. This pattern suggests that most departure delays are minor, often caused by short-term operational issues, whereas arrival delays have a greater spread, possibly due to compounding delays from previous flights, weather disruptions, or air traffic congestion. Extreme delays (over 100 minutes) are relatively rare but significantly impact operations and passenger experience, meaning that even though they occur infrequently, they are of high business importance. There is a noticeable gap in the delay distribution where very early departures are much rarer than small positive delays. This suggests that flights are scheduled with a buffer time, and airlines typically do not push for early departures, likely due to regulatory constraints and passenger scheduling expectations.\n",
        "\n",
        "Overall, most flights will experience little to no delay with a small fraction of flgihts having extreme delays, which are very significant in regards to our business objective. Depature delays are much more frequent but are shorter in duration where arrival delays have a much wider distribution."
      ]
    },
    {
      "cell_type": "code",
      "execution_count": 20,
      "metadata": {},
      "outputs": [
        {
          "data": {
            "text/plain": [
              "<AxesSubplot: xlabel='Month'>"
            ]
          },
          "execution_count": 20,
          "metadata": {},
          "output_type": "execute_result"
        },
        {
          "data": {
            "image/png": "[encoded data removed]",
            "text/plain": [
              "<Figure size 640x480 with 1 Axes>"
            ]
          },
          "metadata": {},
          "output_type": "display_data"
        }
      ],
      "source": [
        "# months with most delays\n",
        "flights_data.groupby('Month')['ArrDel15'].mean().plot.bar()"
      ]
    },
    {
      "cell_type": "markdown",
      "metadata": {},
      "source": [
        "July and September have the most arrival and departure delays. This is most likely due to rainy weather during this time of the year. Getting some weather data and exploring with this would be useful."
      ]
    },
    {
      "cell_type": "code",
      "execution_count": 21,
      "metadata": {},
      "outputs": [
        {
          "data": {
            "text/plain": [
              "<AxesSubplot: xlabel='Month'>"
            ]
          },
          "execution_count": 21,
          "metadata": {},
          "output_type": "execute_result"
        },
        {
          "data": {
            "image/png": "[encoded data removed]",
            "text/plain": [
              "<Figure size 640x480 with 1 Axes>"
            ]
          },
          "metadata": {},
          "output_type": "display_data"
        }
      ],
      "source": [
        "flights_data.groupby('Month')['DepDel15'].mean().plot.bar()"
      ]
    },
    {
      "cell_type": "markdown",
      "metadata": {},
      "source": [
        "Delays peak in July & June which is probably due to high travel demands and weather conditions. Although weather in winter months could have more harse weather conditions, the lower quantity of travelers are a likely factor to the lower level of delays."
      ]
    },
    {
      "cell_type": "code",
      "execution_count": 22,
      "metadata": {},
      "outputs": [
        {
          "data": {
            "text/plain": [
              "DepartureDelayGroups\n",
              "-1.0     8477240\n",
              " 0.0     3082681\n",
              " 1.0     1025907\n",
              " 2.0      549724\n",
              " 3.0      344054\n",
              " 4.0      232966\n",
              " 12.0     205336\n",
              " 5.0      168374\n",
              " 6.0      125448\n",
              " 7.0       96101\n",
              "-2.0       77748\n",
              " 8.0       73325\n",
              " 9.0       57623\n",
              " 10.0      46140\n",
              " 11.0      37007\n",
              "Name: count, dtype: int64"
            ]
          },
          "execution_count": 22,
          "metadata": {},
          "output_type": "execute_result"
        }
      ],
      "source": [
        "# DepartureDelayGroups\n",
        "flights_data['DepartureDelayGroups'].value_counts()"
      ]
    },
    {
      "cell_type": "markdown",
      "metadata": {},
      "source": [
        "Majority of flights leave -15 to -1 minutes early. Unlike arrivals, flights rarely leave 15 minutes early. This makes sense intuitively as this would cause a lot of people to miss their flight. This shows that most flights leave on time or just a few minutes early or late. Extremely long delays (>= 3 hours) are more common than \"medium\" delays (75-179) minutes. "
      ]
    },
    {
      "cell_type": "code",
      "execution_count": 23,
      "metadata": {},
      "outputs": [
        {
          "data": {
            "text/plain": [
              "ArrivalDelayGroups\n",
              "-1.0     5495609\n",
              "-2.0     3553086\n",
              " 0.0     2547959\n",
              " 1.0     1059524\n",
              " 2.0      557357\n",
              " 3.0      342630\n",
              " 4.0      231676\n",
              " 12.0     203310\n",
              " 5.0      167116\n",
              " 6.0      124097\n",
              " 7.0       94370\n",
              " 8.0       73861\n",
              " 9.0       58226\n",
              " 10.0      46271\n",
              " 11.0      37181\n",
              "Name: count, dtype: int64"
            ]
          },
          "execution_count": 23,
          "metadata": {},
          "output_type": "execute_result"
        }
      ],
      "source": [
        "flights_data['ArrivalDelayGroups'].value_counts()"
      ]
    },
    {
      "cell_type": "markdown",
      "metadata": {},
      "source": [
        "Majority of flights arrive -15 to -1 minutes early. Most flights are either on time or arrive slightly early or late. My guess is that flights are predicted to return a bit later than they actually can if everything goes accordingly. This would explain why a lot of flights arrive more than 15 minutes early."
      ]
    },
    {
      "cell_type": "code",
      "execution_count": 24,
      "metadata": {},
      "outputs": [
        {
          "data": {
            "text/plain": [
              "<AxesSubplot: >"
            ]
          },
          "execution_count": 24,
          "metadata": {},
          "output_type": "execute_result"
        },
        {
          "data": {
            "image/png": "[encoded data removed]",
            "text/plain": [
              "<Figure size 640x480 with 1 Axes>"
            ]
          },
          "metadata": {},
          "output_type": "display_data"
        }
      ],
      "source": [
        "# Arrival delay groups histogram\n",
        "flights_data['ArrivalDelayGroups'].hist(bins=30)"
      ]
    },
    {
      "cell_type": "code",
      "execution_count": 25,
      "metadata": {},
      "outputs": [
        {
          "data": {
            "text/plain": [
              "<AxesSubplot: >"
            ]
          },
          "execution_count": 25,
          "metadata": {},
          "output_type": "execute_result"
        },
        {
          "data": {
            "image/png": "[encoded data removed]",
            "text/plain": [
              "<Figure size 640x480 with 1 Axes>"
            ]
          },
          "metadata": {},
          "output_type": "display_data"
        }
      ],
      "source": [
        "flights_data['DepartureDelayGroups'].hist(bins=30)"
      ]
    },
    {
      "cell_type": "markdown",
      "metadata": {},
      "source": [
        "--"
      ]
    },
    {
      "cell_type": "code",
      "execution_count": 26,
      "metadata": {},
      "outputs": [
        {
          "data": {
            "text/plain": [
              "0    1328\n",
              "Name: CRSArrTime, dtype: int64"
            ]
          },
          "execution_count": 26,
          "metadata": {},
          "output_type": "execute_result"
        }
      ],
      "source": [
        "# print first CRSArrTime value\n",
        "flights_data['CRSArrTime'].head(1)"
      ]
    },
    {
      "cell_type": "code",
      "execution_count": 27,
      "metadata": {},
      "outputs": [
        {
          "data": {
            "text/plain": [
              "0    1324.0\n",
              "Name: ArrTime, dtype: float64"
            ]
          },
          "execution_count": 27,
          "metadata": {},
          "output_type": "execute_result"
        }
      ],
      "source": [
        "flights_data['ArrTime'].head(1)"
      ]
    },
    {
      "cell_type": "code",
      "execution_count": 28,
      "metadata": {},
      "outputs": [
        {
          "data": {
            "text/plain": [
              "4.090163425485777"
            ]
          },
          "execution_count": 28,
          "metadata": {},
          "output_type": "execute_result"
        }
      ],
      "source": [
        "# average length of WeatherDelay in minutes\n",
        "flights_data['WeatherDelay'].mean()"
      ]
    },
    {
      "cell_type": "code",
      "execution_count": 29,
      "metadata": {},
      "outputs": [
        {
          "data": {
            "text/plain": [
              "WeatherDelay\n",
              "0.0       2822748\n",
              "6.0          3409\n",
              "15.0         3380\n",
              "7.0          3248\n",
              "2.0          3227\n",
              "           ...   \n",
              "1773.0          1\n",
              "1515.0          1\n",
              "1102.0          1\n",
              "1596.0          1\n",
              "1295.0          1\n",
              "Name: count, Length: 1273, dtype: int64"
            ]
          },
          "execution_count": 29,
          "metadata": {},
          "output_type": "execute_result"
        }
      ],
      "source": [
        "# number of weather delays\n",
        "flights_data['WeatherDelay'].value_counts()"
      ]
    },
    {
      "cell_type": "code",
      "execution_count": 30,
      "metadata": {},
      "outputs": [
        {
          "data": {
            "text/plain": [
              "24.899714783203187"
            ]
          },
          "execution_count": 30,
          "metadata": {},
          "output_type": "execute_result"
        }
      ],
      "source": [
        "# average length of CarrierDelay in minutes\n",
        "flights_data['CarrierDelay'].mean()"
      ]
    },
    {
      "cell_type": "markdown",
      "metadata": {},
      "source": [
        "Weather Delays have an average delay of 4 minutes, lower than carrier delays averaging at 25 minutes and late aircraft delays at 28 minutes."
      ]
    },
    {
      "cell_type": "code",
      "execution_count": 31,
      "metadata": {},
      "outputs": [
        {
          "data": {
            "text/plain": [
              "13.004428471472979"
            ]
          },
          "execution_count": 31,
          "metadata": {},
          "output_type": "execute_result"
        }
      ],
      "source": [
        "# average length of NASDelay in minutes\n",
        "flights_data['NASDelay'].mean()"
      ]
    },
    {
      "cell_type": "code",
      "execution_count": 32,
      "metadata": {},
      "outputs": [
        {
          "data": {
            "text/plain": [
              "0.13140202215504257"
            ]
          },
          "execution_count": 32,
          "metadata": {},
          "output_type": "execute_result"
        }
      ],
      "source": [
        "# average length of SecurityDelay in minutes\n",
        "flights_data['SecurityDelay'].mean()"
      ]
    },
    {
      "cell_type": "code",
      "execution_count": 33,
      "metadata": {},
      "outputs": [
        {
          "data": {
            "text/plain": [
              "28.846849863266854"
            ]
          },
          "execution_count": 33,
          "metadata": {},
          "output_type": "execute_result"
        }
      ],
      "source": [
        "# average length of LateAircraftDelay in minutes\n",
        "flights_data['LateAircraftDelay'].mean()"
      ]
    },
    {
      "cell_type": "markdown",
      "metadata": {},
      "source": [
        "Flights are considered delays if over 15 minutes. "
      ]
    },
    {
      "cell_type": "code",
      "execution_count": 34,
      "metadata": {},
      "outputs": [
        {
          "data": {
            "text/plain": [
              "Dest\n",
              "ATL    678271\n",
              "ORD    611617\n",
              "DEN    610790\n",
              "DFW    603766\n",
              "CLT    476524\n",
              "        ...  \n",
              "EAR       105\n",
              "OWB        43\n",
              "MGW        37\n",
              "EAU        32\n",
              "PUB        27\n",
              "Name: count, Length: 362, dtype: int64"
            ]
          },
          "execution_count": 34,
          "metadata": {},
          "output_type": "execute_result"
        }
      ],
      "source": [
        "# Dest values\n",
        "flights_data['Dest'].value_counts()"
      ]
    },
    {
      "cell_type": "code",
      "execution_count": 35,
      "metadata": {},
      "outputs": [
        {
          "data": {
            "text/plain": [
              "Origin\n",
              "ATL    677925\n",
              "ORD    611731\n",
              "DEN    611111\n",
              "DFW    604362\n",
              "CLT    476299\n",
              "        ...  \n",
              "EAR       105\n",
              "OWB        42\n",
              "MGW        37\n",
              "EAU        31\n",
              "PUB        27\n",
              "Name: count, Length: 362, dtype: int64"
            ]
          },
          "execution_count": 35,
          "metadata": {},
          "output_type": "execute_result"
        }
      ],
      "source": [
        "# Origin values\n",
        "flights_data['Origin'].value_counts()"
      ]
    },
    {
      "cell_type": "code",
      "execution_count": 36,
      "metadata": {},
      "outputs": [
        {
          "data": {
            "text/plain": [
              "Origin\n",
              "MGW    0.459459\n",
              "SCK    0.426386\n",
              "SMX    0.386792\n",
              "OWB    0.357143\n",
              "CKB    0.342233\n",
              "HGR    0.324649\n",
              "USA    0.323345\n",
              "BET    0.316623\n",
              "PBG    0.316397\n",
              "HYA    0.313333\n",
              "BRW    0.312418\n",
              "IAG    0.304965\n",
              "ASE    0.300547\n",
              "FLL    0.289631\n",
              "BQN    0.287326\n",
              "OTH    0.281977\n",
              "LCK    0.278188\n",
              "MVY    0.276908\n",
              "EAU    0.275862\n",
              "MIA    0.275503\n",
              "Name: ArrDel15, dtype: float64"
            ]
          },
          "execution_count": 36,
          "metadata": {},
          "output_type": "execute_result"
        }
      ],
      "source": [
        "# delay by origin\n",
        "flights_data.groupby('Origin')['ArrDel15'].mean().sort_values(ascending=False).head(20)"
      ]
    },
    {
      "cell_type": "code",
      "execution_count": 37,
      "metadata": {},
      "outputs": [
        {
          "data": {
            "text/plain": [
              "Dest\n",
              "PSE    0.361042\n",
              "BQN    0.350659\n",
              "PVU    0.337280\n",
              "MGW    0.305556\n",
              "ASE    0.292006\n",
              "SJU    0.287981\n",
              "CMX    0.287195\n",
              "PQI    0.287111\n",
              "SCK    0.280651\n",
              "SFB    0.279119\n",
              "TTN    0.276825\n",
              "PGD    0.273239\n",
              "SMX    0.267943\n",
              "USA    0.267782\n",
              "EAU    0.266667\n",
              "HGR    0.265060\n",
              "SFO    0.264309\n",
              "FLL    0.263203\n",
              "BRW    0.262402\n",
              "PBI    0.260355\n",
              "Name: ArrDel15, dtype: float64"
            ]
          },
          "execution_count": 37,
          "metadata": {},
          "output_type": "execute_result"
        }
      ],
      "source": [
        "flights_data.groupby('Dest')['ArrDel15'].mean().sort_values(ascending=False).head(20)"
      ]
    },
    {
      "cell_type": "code",
      "execution_count": 38,
      "metadata": {},
      "outputs": [
        {
          "data": {
            "text/plain": [
              "Origin\n",
              "MGW    0.405405\n",
              "SCK    0.385277\n",
              "SMX    0.363208\n",
              "HGR    0.354709\n",
              "USA    0.325436\n",
              "BQN    0.319251\n",
              "CKB    0.317961\n",
              "IAG    0.306383\n",
              "PBG    0.303695\n",
              "BRW    0.300261\n",
              "FLL    0.297780\n",
              "ASE    0.294329\n",
              "BWI    0.289467\n",
              "OWB    0.285714\n",
              "BET    0.284301\n",
              "OTH    0.277616\n",
              "SWF    0.266968\n",
              "BIH    0.265720\n",
              "MIA    0.265078\n",
              "MCO    0.264423\n",
              "Name: DepDel15, dtype: float64"
            ]
          },
          "execution_count": 38,
          "metadata": {},
          "output_type": "execute_result"
        }
      ],
      "source": [
        "flights_data.groupby('Origin')['DepDel15'].mean().sort_values(ascending=False).head(20)"
      ]
    },
    {
      "cell_type": "code",
      "execution_count": 39,
      "metadata": {},
      "outputs": [
        {
          "data": {
            "text/plain": [
              "Dest\n",
              "PSE    0.388694\n",
              "BQN    0.361244\n",
              "PVU    0.326087\n",
              "EAU    0.300000\n",
              "SJU    0.298149\n",
              "TTN    0.293562\n",
              "SFB    0.278629\n",
              "MGW    0.277778\n",
              "ISP    0.273488\n",
              "BIH    0.268537\n",
              "FLL    0.267581\n",
              "CMX    0.263235\n",
              "MCO    0.260777\n",
              "USA    0.260627\n",
              "STX    0.257556\n",
              "BRW    0.257106\n",
              "HGR    0.255020\n",
              "FNT    0.253862\n",
              "PBI    0.252724\n",
              "PGD    0.249504\n",
              "Name: DepDel15, dtype: float64"
            ]
          },
          "execution_count": 39,
          "metadata": {},
          "output_type": "execute_result"
        }
      ],
      "source": [
        "flights_data.groupby('Dest')['DepDel15'].mean().sort_values(ascending=False).head(20)"
      ]
    },
    {
      "cell_type": "code",
      "execution_count": 40,
      "metadata": {},
      "outputs": [
        {
          "data": {
            "text/plain": [
              "OriginStateName\n",
              "Texas                                             1600234\n",
              "California                                        1498960\n",
              "Florida                                           1244975\n",
              "Illinois                                           809565\n",
              "New York                                           770816\n",
              "Georgia                                            734853\n",
              "North Carolina                                     685953\n",
              "Colorado                                           685868\n",
              "Virginia                                           567459\n",
              "Washington                                         437067\n",
              "Arizona                                            430144\n",
              "Nevada                                             424610\n",
              "Pennsylvania                                       362087\n",
              "Michigan                                           335572\n",
              "Tennessee                                          306729\n",
              "New Jersey                                         303356\n",
              "Massachusetts                                      295384\n",
              "Minnesota                                          264767\n",
              "Missouri                                           260428\n",
              "Hawaii                                             259310\n",
              "Utah                                               234846\n",
              "Ohio                                               202067\n",
              "Maryland                                           198466\n",
              "Oregon                                             184807\n",
              "Kentucky                                           156821\n",
              "Louisiana                                          144993\n",
              "South Carolina                                     139183\n",
              "Indiana                                            125741\n",
              "Wisconsin                                          115112\n",
              "Oklahoma                                            88211\n",
              "Alaska                                              87383\n",
              "Alabama                                             77420\n",
              "Puerto Rico                                         75062\n",
              "Idaho                                               68649\n",
              "Montana                                             61913\n",
              "Arkansas                                            60656\n",
              "New Mexico                                          58691\n",
              "Nebraska                                            56961\n",
              "Iowa                                                52887\n",
              "Connecticut                                         46423\n",
              "Maine                                               35930\n",
              "North Dakota                                        35594\n",
              "Rhode Island                                        32691\n",
              "Kansas                                              31678\n",
              "Mississippi                                         30244\n",
              "South Dakota                                        26691\n",
              "Wyoming                                             24055\n",
              "Vermont                                             17769\n",
              "New Hampshire                                       15212\n",
              "U.S. Virgin Islands                                 12361\n",
              "West Virginia                                        9929\n",
              "U.S. Pacific Trust Territories and Possessions       2496\n",
              "Name: count, dtype: int64"
            ]
          },
          "execution_count": 40,
          "metadata": {},
          "output_type": "execute_result"
        }
      ],
      "source": [
        "#OriginStateName values\n",
        "flights_data['OriginStateName'].value_counts().sort_values(ascending=False)"
      ]
    },
    {
      "cell_type": "markdown",
      "metadata": {},
      "source": [
        "Lots of people in states like California, Texas, Florida, Illinois, and New York so they will obviously have a lot of flights leaving their state. US territories represent a small number of flights."
      ]
    },
    {
      "cell_type": "markdown",
      "metadata": {},
      "source": [
        "All values are either US states or US territories. Don't need to remove any international samples."
      ]
    },
    {
      "cell_type": "code",
      "execution_count": 95,
      "metadata": {},
      "outputs": [
        {
          "data": {
            "text/plain": [
              "DestStateName\n",
              "Texas                                             1598969\n",
              "California                                        1499759\n",
              "Florida                                           1244237\n",
              "Illinois                                           809245\n",
              "New York                                           770227\n",
              "Georgia                                            735177\n",
              "North Carolina                                     686217\n",
              "Colorado                                           685059\n",
              "Virginia                                           567083\n",
              "Washington                                         437341\n",
              "Arizona                                            430645\n",
              "Nevada                                             425250\n",
              "Pennsylvania                                       362341\n",
              "Michigan                                           335732\n",
              "Tennessee                                          306844\n",
              "New Jersey                                         302963\n",
              "Massachusetts                                      295504\n",
              "Minnesota                                          265003\n",
              "Missouri                                           260589\n",
              "Hawaii                                             258866\n",
              "Utah                                               235130\n",
              "Ohio                                               202210\n",
              "Maryland                                           198553\n",
              "Oregon                                             184864\n",
              "Kentucky                                           156942\n",
              "Louisiana                                          144958\n",
              "South Carolina                                     139301\n",
              "Indiana                                            125895\n",
              "Wisconsin                                          115108\n",
              "Oklahoma                                            88250\n",
              "Alaska                                              87350\n",
              "Alabama                                             77527\n",
              "Puerto Rico                                         75268\n",
              "Idaho                                               68622\n",
              "Montana                                             61848\n",
              "Arkansas                                            60665\n",
              "New Mexico                                          58730\n",
              "Nebraska                                            56965\n",
              "Iowa                                                52825\n",
              "Connecticut                                         46476\n",
              "Maine                                               35912\n",
              "North Dakota                                        35533\n",
              "Rhode Island                                        32728\n",
              "Kansas                                              31635\n",
              "Mississippi                                         30224\n",
              "South Dakota                                        26660\n",
              "Wyoming                                             24017\n",
              "Vermont                                             17759\n",
              "New Hampshire                                       15215\n",
              "U.S. Virgin Islands                                 12468\n",
              "West Virginia                                        9897\n",
              "U.S. Pacific Trust Territories and Possessions       2493\n",
              "Name: count, dtype: int64"
            ]
          },
          "execution_count": 95,
          "metadata": {},
          "output_type": "execute_result"
        }
      ],
      "source": [
        "flights_data['DestStateName'].value_counts().sort_values(ascending=False)"
      ]
    },
    {
      "cell_type": "markdown",
      "metadata": {},
      "source": [
        "Generally the same as the origin state name. This makes sense as people need to travel back home."
      ]
    },
    {
      "cell_type": "code",
      "execution_count": 92,
      "metadata": {},
      "outputs": [
        {
          "data": {
            "text/plain": [
              "OriginStateName\n",
              "Puerto Rico                                       0.266874\n",
              "U.S. Virgin Islands                               0.252449\n",
              "Maryland                                          0.248945\n",
              "Florida                                           0.245717\n",
              "Colorado                                          0.239778\n",
              "Nevada                                            0.237824\n",
              "Illinois                                          0.227990\n",
              "Texas                                             0.225403\n",
              "New Jersey                                        0.224779\n",
              "North Carolina                                    0.222501\n",
              "West Virginia                                     0.220885\n",
              "Massachusetts                                     0.215676\n",
              "Connecticut                                       0.200179\n",
              "Wyoming                                           0.198346\n",
              "Louisiana                                         0.196565\n",
              "New York                                          0.196476\n",
              "Georgia                                           0.195394\n",
              "Iowa                                              0.195046\n",
              "Missouri                                          0.192792\n",
              "South Dakota                                      0.191336\n",
              "Pennsylvania                                      0.189917\n",
              "California                                        0.189376\n",
              "Washington                                        0.188675\n",
              "Tennessee                                         0.188533\n",
              "Arkansas                                          0.187995\n",
              "Arizona                                           0.185246\n",
              "Virginia                                          0.184734\n",
              "Michigan                                          0.183299\n",
              "Wisconsin                                         0.183283\n",
              "Maine                                             0.183268\n",
              "Vermont                                           0.180144\n",
              "Alabama                                           0.179311\n",
              "New Mexico                                        0.179154\n",
              "North Dakota                                      0.178544\n",
              "Rhode Island                                      0.178377\n",
              "Kentucky                                          0.178291\n",
              "Nebraska                                          0.177795\n",
              "Indiana                                           0.176599\n",
              "Kansas                                            0.174183\n",
              "Montana                                           0.173627\n",
              "Minnesota                                         0.173542\n",
              "Ohio                                              0.173224\n",
              "South Carolina                                    0.173148\n",
              "Utah                                              0.171452\n",
              "New Hampshire                                     0.169096\n",
              "Oklahoma                                          0.167544\n",
              "Alaska                                            0.167278\n",
              "Hawaii                                            0.158902\n",
              "Oregon                                            0.158585\n",
              "Idaho                                             0.152760\n",
              "Mississippi                                       0.151053\n",
              "U.S. Pacific Trust Territories and Possessions    0.079951\n",
              "Name: ArrDel15, dtype: float64"
            ]
          },
          "execution_count": 92,
          "metadata": {},
          "output_type": "execute_result"
        }
      ],
      "source": [
        "# delays by OriginStateName\n",
        "flights_data.groupby('OriginStateName')['ArrDel15'].mean().sort_values(ascending=False)"
      ]
    },
    {
      "cell_type": "markdown",
      "metadata": {},
      "source": [
        "These are the arrival delays by the origin state. There are lots of delays in Puerto Rico, US Virgin Islands, Maryland, and Florida. These are all either islands or on the east coast. A high volume of delays here could be a result of weather, or popular travel destinations resulting in more delays. Generally, the smaller population states have the fewest delays."
      ]
    },
    {
      "cell_type": "code",
      "execution_count": 93,
      "metadata": {},
      "outputs": [
        {
          "data": {
            "text/plain": [
              "OriginStateName\n",
              "Maryland                                          0.286662\n",
              "Puerto Rico                                       0.259767\n",
              "Colorado                                          0.245401\n",
              "Nevada                                            0.245347\n",
              "Florida                                           0.244075\n",
              "Texas                                             0.229925\n",
              "U.S. Virgin Islands                               0.223328\n",
              "New Jersey                                        0.221987\n",
              "Illinois                                          0.217733\n",
              "Massachusetts                                     0.212533\n",
              "North Carolina                                    0.211151\n",
              "West Virginia                                     0.201081\n",
              "Georgia                                           0.199947\n",
              "Louisiana                                         0.198643\n",
              "Missouri                                          0.197463\n",
              "Arizona                                           0.195996\n",
              "New York                                          0.193481\n",
              "California                                        0.191618\n",
              "Tennessee                                         0.189632\n",
              "Connecticut                                       0.189479\n",
              "New Mexico                                        0.180232\n",
              "Pennsylvania                                      0.177351\n",
              "Virginia                                          0.176142\n",
              "Michigan                                          0.175830\n",
              "Iowa                                              0.175693\n",
              "Washington                                        0.174428\n",
              "Wyoming                                           0.174322\n",
              "Arkansas                                          0.172694\n",
              "South Dakota                                      0.171299\n",
              "Nebraska                                          0.171204\n",
              "Alabama                                           0.170223\n",
              "Rhode Island                                      0.170102\n",
              "Ohio                                              0.166323\n",
              "Minnesota                                         0.165418\n",
              "Wisconsin                                         0.165188\n",
              "South Carolina                                    0.164900\n",
              "Indiana                                           0.164601\n",
              "Kentucky                                          0.164374\n",
              "New Hampshire                                     0.163548\n",
              "Maine                                             0.163205\n",
              "Utah                                              0.162698\n",
              "Kansas                                            0.160541\n",
              "North Dakota                                      0.158663\n",
              "Oklahoma                                          0.154887\n",
              "Hawaii                                            0.153266\n",
              "Alaska                                            0.152025\n",
              "Montana                                           0.149399\n",
              "Oregon                                            0.146312\n",
              "Vermont                                           0.146109\n",
              "Mississippi                                       0.140104\n",
              "Idaho                                             0.134500\n",
              "U.S. Pacific Trust Territories and Possessions    0.094968\n",
              "Name: DepDel15, dtype: float64"
            ]
          },
          "execution_count": 93,
          "metadata": {},
          "output_type": "execute_result"
        }
      ],
      "source": [
        "flights_data.groupby('OriginStateName')['DepDel15'].mean().sort_values(ascending=False)"
      ]
    },
    {
      "cell_type": "markdown",
      "metadata": {},
      "source": [
        "These are departure delays by origin state. There are generally similar patterns to the arrival delays."
      ]
    },
    {
      "cell_type": "markdown",
      "metadata": {},
      "source": [
        "The analysis reveals that airport specific characteristics like, geographic location, and seasonal factors play a significant role in flight delays. Smaller regional airports tend to experience higher delays, possibly due to limited infrastructure and reliance on connecting flights, whereas larger hub airports are more affected by air traffic congestion and operational constraints. Differences between departure and arrival delays suggest distinct contributing factors, where departure delays may be linked to staffing, maintenance, or scheduling, while arrival delays can be influenced by weather and airspace restrictions. Geographic patterns also emerge, with certain states and regions experiencing consistently high delays, likely due to seasonal weather events, tourism demand, or airspace congestion. Airline performance appears to vary from airport to airport, mainly smaller airports facing operational problems and larger airports with congestion and planning."
      ]
    },
    {
      "cell_type": "markdown",
      "metadata": {},
      "source": []
    },
    {
      "cell_type": "markdown",
      "metadata": {},
      "source": []
    }
  ],
  "metadata": {
    "colab": {
      "name": "PROJ2 - Early Spring",
      "provenance": [],
      "version": "0.3.2"
    },
    "kernelspec": {
      "display_name": "Python 3",
      "name": "python3"
    },
    "language_info": {
      "codemirror_mode": {
        "name": "ipython",
        "version": 3
      },
      "file_extension": ".py",
      "mimetype": "text/x-python",
      "name": "python",
      "nbconvert_exporter": "python",
      "pygments_lexer": "ipython3",
      "version": "3.10.9"
    }
  },
  "nbformat": 4,
  "nbformat_minor": 0
}
